{
  "nbformat": 4,
  "nbformat_minor": 0,
  "metadata": {
    "colab": {
      "provenance": [],
      "authorship_tag": "ABX9TyOY3A1RhY+Dbe28lcDTdPjl",
      "include_colab_link": true
    },
    "kernelspec": {
      "name": "python3",
      "display_name": "Python 3"
    },
    "language_info": {
      "name": "python"
    },
    "accelerator": "GPU",
    "gpuClass": "standard"
  },
  "cells": [
    {
      "cell_type": "markdown",
      "metadata": {
        "id": "view-in-github",
        "colab_type": "text"
      },
      "source": [
        "<a href=\"https://colab.research.google.com/github/D4C-lolu/Plant-disease-checker/blob/main/disease_detector.ipynb\" target=\"_parent\"><img src=\"https://colab.research.google.com/assets/colab-badge.svg\" alt=\"Open In Colab\"/></a>"
      ]
    },
    {
      "cell_type": "code",
      "execution_count": 1,
      "metadata": {
        "colab": {
          "base_uri": "https://localhost:8080/"
        },
        "id": "LAZeFCgADubI",
        "outputId": "c7b9ded5-4bb7-4021-b3b9-30c870928d7b"
      },
      "outputs": [
        {
          "output_type": "stream",
          "name": "stdout",
          "text": [
            "2.12.0\n",
            "[PhysicalDevice(name='/physical_device:GPU:0', device_type='GPU')]\n"
          ]
        }
      ],
      "source": [
        "# import TensorFlow\n",
        "import tensorflow as tf\n",
        "\n",
        "#Check version of tensorflow\n",
        "print(tf.__version__)\n",
        "print(tf.config.list_physical_devices('GPU'))"
      ]
    },
    {
      "cell_type": "code",
      "source": [
        "#Required Imports\n",
        "import tensorflow as tf\n",
        "import matplotlib.pyplot as plt\n",
        "from tensorflow.keras import datasets, layers, models, losses, Model\n",
        "import os\n",
        "import tensorflow_hub as hub\n",
        "from tensorflow.keras.layers import Dense, Flatten, Conv2D\n",
        "from tensorflow.keras import Model\n",
        "from tensorflow.keras.preprocessing.image import ImageDataGenerator\n",
        "from tensorflow.keras.optimizers import Adam\n",
        "from tensorflow.keras import layers"
      ],
      "metadata": {
        "id": "5hXmbT_vEqG-"
      },
      "execution_count": 12,
      "outputs": []
    },
    {
      "cell_type": "code",
      "source": [
        "#Load data file\n",
        "zip_file = tf.keras.utils.get_file(origin='https://storage.googleapis.com/plantdata/PlantVillage.zip', \n",
        "                                   fname='PlantVillage.zip', extract=True)\n"
      ],
      "metadata": {
        "colab": {
          "base_uri": "https://localhost:8080/"
        },
        "id": "jRH9qfSUFVV_",
        "outputId": "c7b8a734-80f7-4ddf-a200-abde4bec53f1"
      },
      "execution_count": 8,
      "outputs": [
        {
          "output_type": "stream",
          "name": "stdout",
          "text": [
            "Downloading data from https://storage.googleapis.com/plantdata/PlantVillage.zip\n",
            "856839084/856839084 [==============================] - 51s 0us/step\n"
          ]
        }
      ]
    },
    {
      "cell_type": "code",
      "source": [
        "#Prepare training and validation dataset\n",
        "\n",
        "data_dir = os.path.join(os.path.dirname(zip_file), 'PlantVillage')\n",
        "train_dir = os.path.join(data_dir, 'train')\n",
        "validation_dir = os.path.join(data_dir, 'validation')"
      ],
      "metadata": {
        "id": "g6R7taxsGISL"
      },
      "execution_count": 11,
      "outputs": []
    },
    {
      "cell_type": "code",
      "source": [
        "#Check files in working directory\n",
        "\n",
        "import time\n",
        "import os\n",
        "from os.path import exists\n",
        "\n",
        "def count(dir, counter=0):\n",
        "    \"returns number of files in dir and subdirs\"\n",
        "    for pack in os.walk(dir):\n",
        "        for f in pack[2]:\n",
        "            counter += 1\n",
        "    return dir + \" : \" + str(counter) + \" files\"\n",
        "\n",
        "\n",
        "print('total images for training :', count(train_dir))\n",
        "print('total images for validation :', count(validation_dir))"
      ],
      "metadata": {
        "colab": {
          "base_uri": "https://localhost:8080/"
        },
        "id": "U6dkjnaWGf0X",
        "outputId": "2b29d4ee-310d-44de-837d-56a71f621f1a"
      },
      "execution_count": 14,
      "outputs": [
        {
          "output_type": "stream",
          "name": "stdout",
          "text": [
            "total images for training : /root/.keras/datasets/PlantVillage/train : 43444 files\n",
            "total images for validation : /root/.keras/datasets/PlantVillage/validation : 10861 files\n"
          ]
        }
      ]
    },
    {
      "cell_type": "code",
      "source": [
        "#Label Mapping\n",
        "!!wget https://github.com/obeshor/Plant-Diseases-Detector/archive/master.zip\n",
        "!unzip master.zip;"
      ],
      "metadata": {
        "colab": {
          "base_uri": "https://localhost:8080/"
        },
        "id": "XkPMsZj-GzQX",
        "outputId": "4b2bc70c-18b7-4eda-bc07-a86301dab533"
      },
      "execution_count": 15,
      "outputs": [
        {
          "output_type": "stream",
          "name": "stdout",
          "text": [
            "Archive:  master.zip\n",
            "33dc8985c943175a7a1301fe034c01d69bebb8cf\n",
            "   creating: Plant-Diseases-Detector-master/\n",
            "   creating: Plant-Diseases-Detector-master/GreenDoctor/\n",
            "  inflating: Plant-Diseases-Detector-master/GreenDoctor/.gitignore  \n",
            "   creating: Plant-Diseases-Detector-master/GreenDoctor/.idea/\n",
            "   creating: Plant-Diseases-Detector-master/GreenDoctor/.idea/codeStyles/\n",
            "  inflating: Plant-Diseases-Detector-master/GreenDoctor/.idea/codeStyles/Project.xml  \n",
            "  inflating: Plant-Diseases-Detector-master/GreenDoctor/.idea/codeStyles/codeStyleConfig.xml  \n",
            "  inflating: Plant-Diseases-Detector-master/GreenDoctor/.idea/encodings.xml  \n",
            "  inflating: Plant-Diseases-Detector-master/GreenDoctor/.idea/jarRepositories.xml  \n",
            "  inflating: Plant-Diseases-Detector-master/GreenDoctor/.idea/misc.xml  \n",
            "  inflating: Plant-Diseases-Detector-master/GreenDoctor/.idea/runConfigurations.xml  \n",
            "  inflating: Plant-Diseases-Detector-master/GreenDoctor/.idea/vcs.xml  \n",
            "   creating: Plant-Diseases-Detector-master/GreenDoctor/app/\n",
            "  inflating: Plant-Diseases-Detector-master/GreenDoctor/app/build.gradle  \n",
            "  inflating: Plant-Diseases-Detector-master/GreenDoctor/app/proguard-rules.pro  \n",
            "   creating: Plant-Diseases-Detector-master/GreenDoctor/app/src/\n",
            "   creating: Plant-Diseases-Detector-master/GreenDoctor/app/src/androidTest/\n",
            "   creating: Plant-Diseases-Detector-master/GreenDoctor/app/src/androidTest/java/\n",
            "   creating: Plant-Diseases-Detector-master/GreenDoctor/app/src/androidTest/java/isomora/\n",
            "   creating: Plant-Diseases-Detector-master/GreenDoctor/app/src/androidTest/java/isomora/com/\n",
            "   creating: Plant-Diseases-Detector-master/GreenDoctor/app/src/androidTest/java/isomora/com/greendoctor/\n",
            "  inflating: Plant-Diseases-Detector-master/GreenDoctor/app/src/androidTest/java/isomora/com/greendoctor/ExampleInstrumentedTest.kt  \n",
            "   creating: Plant-Diseases-Detector-master/GreenDoctor/app/src/main/\n",
            "  inflating: Plant-Diseases-Detector-master/GreenDoctor/app/src/main/AndroidManifest.xml  \n",
            "   creating: Plant-Diseases-Detector-master/GreenDoctor/app/src/main/assets/\n",
            "  inflating: Plant-Diseases-Detector-master/GreenDoctor/app/src/main/assets/plant_disease_model.tflite  \n",
            "  inflating: Plant-Diseases-Detector-master/GreenDoctor/app/src/main/assets/plant_labels.txt  \n",
            "  inflating: Plant-Diseases-Detector-master/GreenDoctor/app/src/main/assets/soybean.JPG  \n",
            "  inflating: Plant-Diseases-Detector-master/GreenDoctor/app/src/main/ic_launcher-web.png  \n",
            "   creating: Plant-Diseases-Detector-master/GreenDoctor/app/src/main/java/\n",
            "   creating: Plant-Diseases-Detector-master/GreenDoctor/app/src/main/java/isomora/\n",
            "   creating: Plant-Diseases-Detector-master/GreenDoctor/app/src/main/java/isomora/com/\n",
            "   creating: Plant-Diseases-Detector-master/GreenDoctor/app/src/main/java/isomora/com/greendoctor/\n",
            "  inflating: Plant-Diseases-Detector-master/GreenDoctor/app/src/main/java/isomora/com/greendoctor/Classifier.kt  \n",
            "  inflating: Plant-Diseases-Detector-master/GreenDoctor/app/src/main/java/isomora/com/greendoctor/MainActivity.kt  \n",
            "   creating: Plant-Diseases-Detector-master/GreenDoctor/app/src/main/res/\n",
            "   creating: Plant-Diseases-Detector-master/GreenDoctor/app/src/main/res/drawable-v24/\n",
            "  inflating: Plant-Diseases-Detector-master/GreenDoctor/app/src/main/res/drawable-v24/ic_launcher_foreground.xml  \n",
            "   creating: Plant-Diseases-Detector-master/GreenDoctor/app/src/main/res/drawable/\n",
            "  inflating: Plant-Diseases-Detector-master/GreenDoctor/app/src/main/res/drawable/ic_launcher_background.xml  \n",
            "   creating: Plant-Diseases-Detector-master/GreenDoctor/app/src/main/res/layout/\n",
            "  inflating: Plant-Diseases-Detector-master/GreenDoctor/app/src/main/res/layout/activity_main.xml  \n",
            "   creating: Plant-Diseases-Detector-master/GreenDoctor/app/src/main/res/mipmap-anydpi-v26/\n",
            "  inflating: Plant-Diseases-Detector-master/GreenDoctor/app/src/main/res/mipmap-anydpi-v26/ic_launcher.xml  \n",
            "  inflating: Plant-Diseases-Detector-master/GreenDoctor/app/src/main/res/mipmap-anydpi-v26/ic_launcher_round.xml  \n",
            "   creating: Plant-Diseases-Detector-master/GreenDoctor/app/src/main/res/mipmap-hdpi/\n",
            " extracting: Plant-Diseases-Detector-master/GreenDoctor/app/src/main/res/mipmap-hdpi/ic_launcher.png  \n",
            "  inflating: Plant-Diseases-Detector-master/GreenDoctor/app/src/main/res/mipmap-hdpi/ic_launcher_foreground.png  \n",
            " extracting: Plant-Diseases-Detector-master/GreenDoctor/app/src/main/res/mipmap-hdpi/ic_launcher_round.png  \n",
            "   creating: Plant-Diseases-Detector-master/GreenDoctor/app/src/main/res/mipmap-mdpi/\n",
            " extracting: Plant-Diseases-Detector-master/GreenDoctor/app/src/main/res/mipmap-mdpi/ic_launcher.png  \n",
            "  inflating: Plant-Diseases-Detector-master/GreenDoctor/app/src/main/res/mipmap-mdpi/ic_launcher_foreground.png  \n",
            " extracting: Plant-Diseases-Detector-master/GreenDoctor/app/src/main/res/mipmap-mdpi/ic_launcher_round.png  \n",
            "   creating: Plant-Diseases-Detector-master/GreenDoctor/app/src/main/res/mipmap-xhdpi/\n",
            " extracting: Plant-Diseases-Detector-master/GreenDoctor/app/src/main/res/mipmap-xhdpi/ic_launcher.png  \n",
            "  inflating: Plant-Diseases-Detector-master/GreenDoctor/app/src/main/res/mipmap-xhdpi/ic_launcher_foreground.png  \n",
            " extracting: Plant-Diseases-Detector-master/GreenDoctor/app/src/main/res/mipmap-xhdpi/ic_launcher_round.png  \n",
            "   creating: Plant-Diseases-Detector-master/GreenDoctor/app/src/main/res/mipmap-xxhdpi/\n",
            "  inflating: Plant-Diseases-Detector-master/GreenDoctor/app/src/main/res/mipmap-xxhdpi/ic_launcher.png  \n",
            "  inflating: Plant-Diseases-Detector-master/GreenDoctor/app/src/main/res/mipmap-xxhdpi/ic_launcher_foreground.png  \n",
            " extracting: Plant-Diseases-Detector-master/GreenDoctor/app/src/main/res/mipmap-xxhdpi/ic_launcher_round.png  \n",
            "   creating: Plant-Diseases-Detector-master/GreenDoctor/app/src/main/res/mipmap-xxxhdpi/\n",
            "  inflating: Plant-Diseases-Detector-master/GreenDoctor/app/src/main/res/mipmap-xxxhdpi/ic_launcher.png  \n",
            "  inflating: Plant-Diseases-Detector-master/GreenDoctor/app/src/main/res/mipmap-xxxhdpi/ic_launcher_foreground.png  \n",
            " extracting: Plant-Diseases-Detector-master/GreenDoctor/app/src/main/res/mipmap-xxxhdpi/ic_launcher_round.png  \n",
            "   creating: Plant-Diseases-Detector-master/GreenDoctor/app/src/main/res/values/\n",
            "  inflating: Plant-Diseases-Detector-master/GreenDoctor/app/src/main/res/values/colors.xml  \n",
            "  inflating: Plant-Diseases-Detector-master/GreenDoctor/app/src/main/res/values/ic_launcher_background.xml  \n",
            "  inflating: Plant-Diseases-Detector-master/GreenDoctor/app/src/main/res/values/strings.xml  \n",
            "  inflating: Plant-Diseases-Detector-master/GreenDoctor/app/src/main/res/values/styles.xml  \n",
            "   creating: Plant-Diseases-Detector-master/GreenDoctor/app/src/test/\n",
            "   creating: Plant-Diseases-Detector-master/GreenDoctor/app/src/test/java/\n",
            "   creating: Plant-Diseases-Detector-master/GreenDoctor/app/src/test/java/isomora/\n",
            "   creating: Plant-Diseases-Detector-master/GreenDoctor/app/src/test/java/isomora/com/\n",
            "   creating: Plant-Diseases-Detector-master/GreenDoctor/app/src/test/java/isomora/com/greendoctor/\n",
            "  inflating: Plant-Diseases-Detector-master/GreenDoctor/app/src/test/java/isomora/com/greendoctor/ExampleUnitTest.kt  \n",
            "  inflating: Plant-Diseases-Detector-master/GreenDoctor/build.gradle  \n",
            "  inflating: Plant-Diseases-Detector-master/GreenDoctor/gradle.properties  \n",
            "   creating: Plant-Diseases-Detector-master/GreenDoctor/gradle/\n",
            "   creating: Plant-Diseases-Detector-master/GreenDoctor/gradle/wrapper/\n",
            "  inflating: Plant-Diseases-Detector-master/GreenDoctor/gradle/wrapper/gradle-wrapper.jar  \n",
            "  inflating: Plant-Diseases-Detector-master/GreenDoctor/gradle/wrapper/gradle-wrapper.properties  \n",
            "  inflating: Plant-Diseases-Detector-master/GreenDoctor/gradlew  \n",
            "  inflating: Plant-Diseases-Detector-master/GreenDoctor/gradlew.bat  \n",
            " extracting: Plant-Diseases-Detector-master/GreenDoctor/settings.gradle  \n",
            "  inflating: Plant-Diseases-Detector-master/Plant_Diseases_Detection_with_TF2_V2.ipynb  \n",
            "  inflating: Plant-Diseases-Detector-master/Plant_Diseases_Detection_with_TF2_V4.ipynb  \n",
            "  inflating: Plant-Diseases-Detector-master/README.md  \n",
            "  inflating: Plant-Diseases-Detector-master/_config.yml  \n",
            "   creating: Plant-Diseases-Detector-master/assets/\n",
            "  inflating: Plant-Diseases-Detector-master/assets/PlantVillagefarmer.jpg  \n",
            "  inflating: Plant-Diseases-Detector-master/assets/detect_crop_disease_in_africa.jpg  \n",
            "  inflating: Plant-Diseases-Detector-master/assets/greendoctor.png  \n",
            "  inflating: Plant-Diseases-Detector-master/assets/over.png  \n",
            "  inflating: Plant-Diseases-Detector-master/categories.json  \n"
          ]
        }
      ]
    },
    {
      "cell_type": "code",
      "source": [
        "import json\n",
        "\n",
        "with open('Plant-Diseases-Detector-master/categories.json', 'r') as f:\n",
        "    cat_to_name = json.load(f)\n",
        "    classes = list(cat_to_name.values())\n",
        "\n",
        "print('Number of classes:',len(classes))\n",
        "print (classes)"
      ],
      "metadata": {
        "colab": {
          "base_uri": "https://localhost:8080/"
        },
        "id": "ayn_6trgG7Mn",
        "outputId": "60d677a9-4a35-41dd-a2e6-2bf95520c4e6"
      },
      "execution_count": 17,
      "outputs": [
        {
          "output_type": "stream",
          "name": "stdout",
          "text": [
            "Number of classes: 38\n",
            "['Apple___Apple_scab', 'Apple___Black_rot', 'Apple___Cedar_apple_rust', 'Apple___healthy', 'Blueberry___healthy', 'Cherry_(including_sour)___Powdery_mildew', 'Cherry_(including_sour)___healthy', 'Corn_(maize)___Cercospora_leaf_spot Gray_leaf_spot', 'Corn_(maize)___Common_rust_', 'Corn_(maize)___Northern_Leaf_Blight', 'Corn_(maize)___healthy', 'Grape___Black_rot', 'Grape___Esca_(Black_Measles)', 'Grape___Leaf_blight_(Isariopsis_Leaf_Spot)', 'Grape___healthy', 'Orange___Haunglongbing_(Citrus_greening)', 'Peach___Bacterial_spot', 'Peach___healthy', 'Pepper,_bell___Bacterial_spot', 'Pepper,_bell___healthy', 'Potato___Early_blight', 'Potato___Late_blight', 'Potato___healthy', 'Raspberry___healthy', 'Soybean___healthy', 'Squash___Powdery_mildew', 'Strawberry___Leaf_scorch', 'Strawberry___healthy', 'Tomato___Bacterial_spot', 'Tomato___Early_blight', 'Tomato___Late_blight', 'Tomato___Leaf_Mold', 'Tomato___Septoria_leaf_spot', 'Tomato___Spider_mites Two-spotted_spider_mite', 'Tomato___Target_Spot', 'Tomato___Tomato_Yellow_Leaf_Curl_Virus', 'Tomato___Tomato_mosaic_virus', 'Tomato___healthy']\n"
          ]
        }
      ]
    },
    {
      "cell_type": "code",
      "source": [
        "#Select the Tensorflow module to use\n",
        "module_selection = (\"inception_v3\", 299, 2048) #@param [\"(\\\"mobilenet_v2\\\", 224, 1280)\", \"(\\\"inception_v3\\\", 299, 2048)\"] {type:\"raw\", allow-input: true}\n",
        "handle_base, pixels, FV_SIZE = module_selection\n",
        "MODULE_HANDLE =\"https://tfhub.dev/google/tf2-preview/{}/feature_vector/2\".format(handle_base)\n",
        "IMAGE_SIZE = (pixels, pixels)\n",
        "print(\"Using {} with input size {} and output dimension {}\".format(\n",
        "  MODULE_HANDLE, IMAGE_SIZE, FV_SIZE))\n",
        "\n",
        "BATCH_SIZE = 64 #@param {type:\"integer\"}"
      ],
      "metadata": {
        "colab": {
          "base_uri": "https://localhost:8080/"
        },
        "id": "FCKsduFpHcP_",
        "outputId": "5b8a8039-f9c9-4cd2-82f9-d5711f805819"
      },
      "execution_count": 18,
      "outputs": [
        {
          "output_type": "stream",
          "name": "stdout",
          "text": [
            "Using https://tfhub.dev/google/tf2-preview/inception_v3/feature_vector/2 with input size (299, 299) and output dimension 2048\n"
          ]
        }
      ]
    },
    {
      "cell_type": "code",
      "source": [
        "#Pre-processing inputs\n",
        "validation_datagen = tf.keras.preprocessing.image.ImageDataGenerator(rescale=1./255)\n",
        "validation_generator = validation_datagen.flow_from_directory(\n",
        "    validation_dir, \n",
        "    shuffle=False, \n",
        "    seed=42,\n",
        "    color_mode=\"rgb\", \n",
        "    class_mode=\"categorical\",\n",
        "    target_size=IMAGE_SIZE,\n",
        "    batch_size=BATCH_SIZE)\n",
        "\n",
        "do_data_augmentation = True #@param {type:\"boolean\"}\n",
        "if do_data_augmentation:\n",
        "  train_datagen = tf.keras.preprocessing.image.ImageDataGenerator(\n",
        "      rescale = 1./255,\n",
        "      rotation_range=40,\n",
        "      horizontal_flip=True,\n",
        "      width_shift_range=0.2, \n",
        "      height_shift_range=0.2,\n",
        "      shear_range=0.2, \n",
        "      zoom_range=0.2,\n",
        "      fill_mode='nearest' )\n",
        "else:\n",
        "  train_datagen = validation_datagen\n",
        "  \n",
        "train_generator = train_datagen.flow_from_directory(\n",
        "    train_dir, \n",
        "    subset=\"training\", \n",
        "    shuffle=True, \n",
        "    seed=42,\n",
        "    color_mode=\"rgb\", \n",
        "    class_mode=\"categorical\",\n",
        "    target_size=IMAGE_SIZE,\n",
        "    batch_size=BATCH_SIZE)\n"
      ],
      "metadata": {
        "colab": {
          "base_uri": "https://localhost:8080/"
        },
        "id": "L1rjYlplHocH",
        "outputId": "51d32a63-1487-42ed-f623-de1193c414a1"
      },
      "execution_count": 19,
      "outputs": [
        {
          "output_type": "stream",
          "name": "stdout",
          "text": [
            "Found 10861 images belonging to 38 classes.\n",
            "Found 43444 images belonging to 38 classes.\n"
          ]
        }
      ]
    },
    {
      "cell_type": "code",
      "source": [
        "#Model Creation\n",
        "feature_extractor = hub.KerasLayer(MODULE_HANDLE,\n",
        "                                   input_shape=IMAGE_SIZE+(3,),\n",
        "                                   output_shape=[FV_SIZE])"
      ],
      "metadata": {
        "id": "8M5UIuDrH9qh"
      },
      "execution_count": 20,
      "outputs": []
    },
    {
      "cell_type": "code",
      "source": [
        "#Model Fine tuning\n",
        "do_fine_tuning = False #@param {type:\"boolean\"}\n",
        "if do_fine_tuning:\n",
        "  feature_extractor.trainable = True\n",
        "  # unfreeze some layers of base network for fine-tuning\n",
        "  for layer in base_model.layers[-30:]:\n",
        "    layer.trainable =True\n",
        "  \n",
        "else:\n",
        "  feature_extractor.trainable = False"
      ],
      "metadata": {
        "id": "DnbXcAe4IDc8"
      },
      "execution_count": 21,
      "outputs": []
    },
    {
      "cell_type": "code",
      "source": [
        "print(\"Building model with\", MODULE_HANDLE)\n",
        "model = tf.keras.Sequential([\n",
        "    feature_extractor,\n",
        "    tf.keras.layers.Flatten(),\n",
        "    tf.keras.layers.Dense(512, activation='relu'),\n",
        "    tf.keras.layers.Dropout(rate=0.2),\n",
        "    tf.keras.layers.Dense(train_generator.num_classes, activation='softmax',\n",
        "                           kernel_regularizer=tf.keras.regularizers.l2(0.0001))\n",
        "])\n",
        "#model.build((None,)+IMAGE_SIZE+(3,))\n",
        "\n",
        "model.summary()"
      ],
      "metadata": {
        "colab": {
          "base_uri": "https://localhost:8080/"
        },
        "id": "1uujLddsIIX-",
        "outputId": "2a490591-382f-4e6c-b7d4-fcb0778bfa2d"
      },
      "execution_count": 22,
      "outputs": [
        {
          "output_type": "stream",
          "name": "stdout",
          "text": [
            "Building model with https://tfhub.dev/google/tf2-preview/inception_v3/feature_vector/2\n",
            "Model: \"sequential\"\n",
            "_________________________________________________________________\n",
            " Layer (type)                Output Shape              Param #   \n",
            "=================================================================\n",
            " keras_layer (KerasLayer)    (None, 2048)              21802784  \n",
            "                                                                 \n",
            " flatten (Flatten)           (None, 2048)              0         \n",
            "                                                                 \n",
            " dense (Dense)               (None, 512)               1049088   \n",
            "                                                                 \n",
            " dropout (Dropout)           (None, 512)               0         \n",
            "                                                                 \n",
            " dense_1 (Dense)             (None, 38)                19494     \n",
            "                                                                 \n",
            "=================================================================\n",
            "Total params: 22,871,366\n",
            "Trainable params: 1,068,582\n",
            "Non-trainable params: 21,802,784\n",
            "_________________________________________________________________\n"
          ]
        }
      ]
    },
    {
      "cell_type": "code",
      "source": [
        "#Loss function specification\n",
        "LEARNING_RATE = 0.001 #@param {type:\"number\"}\n",
        "\n",
        "model.compile(\n",
        "   optimizer=tf.keras.optimizers.Adam(learning_rate=LEARNING_RATE), \n",
        "   loss='categorical_crossentropy',\n",
        "   metrics=['accuracy'])\n"
      ],
      "metadata": {
        "id": "nroI2ApUIPks"
      },
      "execution_count": 24,
      "outputs": []
    },
    {
      "cell_type": "code",
      "source": [],
      "metadata": {
        "id": "NN7QCXDDIcDX"
      },
      "execution_count": null,
      "outputs": []
    }
  ]
}